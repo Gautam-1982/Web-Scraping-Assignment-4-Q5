{
 "cells": [
  {
   "cell_type": "code",
   "execution_count": 51,
   "metadata": {},
   "outputs": [],
   "source": [
    "import selenium\n",
    "from selenium import webdriver\n",
    "from selenium.webdriver.common.by import By\n",
    "from selenium.webdriver.support.ui import WebDriverWait\n",
    "from selenium.webdriver.support import expected_conditions as EC\n",
    "import time\n",
    "import requests\n",
    "from bs4 import BeautifulSoup\n",
    "import os\n",
    "import pandas as pd\n",
    "from selenium.common.exceptions import StaleElementReferenceException, NoSuchElementException,ElementNotInteractableException,InvalidArgumentException,InvalidCookieDomainException"
   ]
  },
  {
   "cell_type": "code",
   "execution_count": 52,
   "metadata": {},
   "outputs": [],
   "source": [
    "driver = webdriver.Chrome(executable_path=\"D:\\\\chromedriver_win32\\\\chromedriver.exe\")"
   ]
  },
  {
   "cell_type": "code",
   "execution_count": 53,
   "metadata": {},
   "outputs": [],
   "source": [
    "url=\"https://github.com/\""
   ]
  },
  {
   "cell_type": "code",
   "execution_count": 54,
   "metadata": {},
   "outputs": [],
   "source": [
    "driver.get(url)"
   ]
  },
  {
   "cell_type": "code",
   "execution_count": 55,
   "metadata": {},
   "outputs": [],
   "source": [
    "WebDriverWait(driver, 20).until(EC.element_to_be_clickable((By.XPATH, '/html/body/div[1]/header/div/div[2]/nav/ul/li[4]/details/summary'))).click()\n",
    "WebDriverWait(driver, 20).until(EC.element_to_be_clickable((By.XPATH, '/html/body/div[1]/header/div/div[2]/nav/ul/li[4]/details/div/ul[2]/li[3]/a'))).click()"
   ]
  },
  {
   "cell_type": "code",
   "execution_count": 56,
   "metadata": {},
   "outputs": [],
   "source": [
    "Repository_title=[]\n",
    "Repository_description=[]\n",
    "Contributors_count=[]\n",
    "Language_used=[]\n"
   ]
  },
  {
   "cell_type": "code",
   "execution_count": 57,
   "metadata": {},
   "outputs": [
    {
     "data": {
      "text/plain": [
       "[<selenium.webdriver.remote.webelement.WebElement (session=\"5025b05d8cf3ec1f2172adc2f7970b29\", element=\"e560cba4-4794-43ad-b20d-76ec7b863273\")>,\n",
       " <selenium.webdriver.remote.webelement.WebElement (session=\"5025b05d8cf3ec1f2172adc2f7970b29\", element=\"55c54edf-37e8-43a8-a65b-7b20a4e79308\")>,\n",
       " <selenium.webdriver.remote.webelement.WebElement (session=\"5025b05d8cf3ec1f2172adc2f7970b29\", element=\"e57e5e2d-5b64-412d-968f-031861e12a28\")>]"
      ]
     },
     "execution_count": 57,
     "metadata": {},
     "output_type": "execute_result"
    }
   ],
   "source": [
    "title = driver.find_elements_by_xpath(\"//h1[@class='h3 lh-condensed']/a\")\n",
    "title[0:3]"
   ]
  },
  {
   "cell_type": "code",
   "execution_count": 58,
   "metadata": {},
   "outputs": [
    {
     "data": {
      "text/plain": [
       "['supabase / supabase',\n",
       " 'livewire / livewire',\n",
       " 'johnBuffer / NoCol',\n",
       " '521xueweihan / HelloGitHub',\n",
       " 'Developer-Y / cs-video-courses',\n",
       " 'PaddlePaddle / PaddleDetection',\n",
       " 'nextapps-de / winbox',\n",
       " 'UnityTechnologies / open-project-1',\n",
       " 'flashlight / flashlight',\n",
       " 'TheAlgorithms / Python',\n",
       " 'dani-garcia / vaultwarden',\n",
       " 'nvbn / thefuck',\n",
       " 'trekhleb / javascript-algorithms',\n",
       " 'doocs / leetcode',\n",
       " 'mlflow / mlflow',\n",
       " 'xinliangnote / go-gin-api',\n",
       " 'gitflai / Semana-do-Iniciante-em-Data-Science',\n",
       " 'tensorflow / tensorboard',\n",
       " 'SagerNet / SagerNet',\n",
       " 'commaai / openpilot',\n",
       " 'chrisleekr / binance-trading-bot',\n",
       " 'storj / drpc',\n",
       " 'airbnb / lottie-ios',\n",
       " 'seek-oss / vanilla-extract',\n",
       " 'huggingface / datasets']"
      ]
     },
     "execution_count": 58,
     "metadata": {},
     "output_type": "execute_result"
    }
   ],
   "source": [
    "for i in title:\n",
    "    titles=i.text.replace(\"\\n\",\" \")\n",
    "    Repository_title.append(titles)\n",
    "Repository_title"
   ]
  },
  {
   "cell_type": "code",
   "execution_count": 59,
   "metadata": {},
   "outputs": [
    {
     "data": {
      "text/plain": [
       "[<selenium.webdriver.remote.webelement.WebElement (session=\"5025b05d8cf3ec1f2172adc2f7970b29\", element=\"8df9c0bd-f8c2-4b02-a6fc-b09d732e2a48\")>,\n",
       " <selenium.webdriver.remote.webelement.WebElement (session=\"5025b05d8cf3ec1f2172adc2f7970b29\", element=\"2be61057-5ada-4a88-9222-ab0bd6580ade\")>,\n",
       " <selenium.webdriver.remote.webelement.WebElement (session=\"5025b05d8cf3ec1f2172adc2f7970b29\", element=\"65e88b98-ea70-4e3d-bba1-0bdfa9c896c2\")>]"
      ]
     },
     "execution_count": 59,
     "metadata": {},
     "output_type": "execute_result"
    }
   ],
   "source": [
    "description = driver.find_elements_by_xpath(\"//p[@class='col-9 color-text-secondary my-1 pr-4']\")\n",
    "description[0:3]"
   ]
  },
  {
   "cell_type": "code",
   "execution_count": 60,
   "metadata": {},
   "outputs": [
    {
     "data": {
      "text/plain": [
       "['The open source Firebase alternative. Follow to stay updated about our public Beta.',\n",
       " 'A full-stack framework for Laravel that takes the pain out of building dynamic UIs.',\n",
       " 'Trajectories finder',\n",
       " '分享 GitHub 上有趣、入门级的开源项目',\n",
       " 'List of Computer Science courses with video lectures.',\n",
       " 'Object detection and instance segmentation toolkit based on PaddlePaddle.',\n",
       " 'WinBox is a professional HTML5 window manager for the web: lightweight, outstanding performance, no dependencies, fully customizable, open source!',\n",
       " 'Unity Open Project #1: Chop Chop',\n",
       " 'A C++ standalone library for machine learning',\n",
       " 'All Algorithms implemented in Python',\n",
       " 'Unofficial Bitwarden compatible server written in Rust',\n",
       " 'Magnificent app which corrects your previous console command.',\n",
       " '📝 Algorithms and data structures implemented in JavaScript with explanations and links to further readings',\n",
       " '😏 LeetCode solutions in any programming language | 多种编程语言实现 LeetCode、《剑指 Offer（第 2 版）》、《程序员面试金典（第 6 版）》题解',\n",
       " 'Open source platform for the machine learning lifecycle',\n",
       " '基于 Gin 进行模块化设计的 API 框架，封装了常用功能，使用简单，致力于进行快速的业务研发。比如，支持 cors 跨域、jwt 签名验证、zap 日志收集、panic 异常捕获、trace 链路追踪、prometheus 监控指标、swagger 文档生成、viper 配置文件解析、gorm 数据库组件、gormgen 代码生成工具、graphql 查询语言、errno 统一定义错误码、gRPC 的使用 等等。',\n",
       " \"TensorFlow's Visualization Toolkit\",\n",
       " 'The universal proxy toolchain for Android.',\n",
       " 'openpilot is an open source driver assistance system. openpilot performs the functions of Automated Lane Centering and Adaptive Cruise Control for over 100 supported car makes and models.',\n",
       " 'Automated Binance trading bot - Buy low/Sell high with stop loss limit/Trade multiple cryptocurrencies',\n",
       " 'drpc is a lightweight, drop-in replacement for gRPC',\n",
       " 'An iOS library to natively render After Effects vector animations',\n",
       " 'Zero-runtime Stylesheets-in-TypeScript',\n",
       " '🤗 The largest hub of ready-to-use NLP datasets for ML models with fast, easy-to-use and efficient data manipulation tools']"
      ]
     },
     "execution_count": 60,
     "metadata": {},
     "output_type": "execute_result"
    }
   ],
   "source": [
    "for i in description:\n",
    "    descriptions=i.text.replace(\"\\n\",\" \")\n",
    "    Repository_description.append(descriptions)\n",
    "Repository_description"
   ]
  },
  {
   "cell_type": "code",
   "execution_count": 68,
   "metadata": {},
   "outputs": [],
   "source": [
    "Repository_description.insert(17, '-')\n"
   ]
  },
  {
   "cell_type": "code",
   "execution_count": 61,
   "metadata": {},
   "outputs": [
    {
     "data": {
      "text/plain": [
       "[<selenium.webdriver.remote.webelement.WebElement (session=\"5025b05d8cf3ec1f2172adc2f7970b29\", element=\"afdeab97-bc51-4a8d-af9c-4523e0174494\")>,\n",
       " <selenium.webdriver.remote.webelement.WebElement (session=\"5025b05d8cf3ec1f2172adc2f7970b29\", element=\"8d9b60fc-b655-4fe3-99ec-130100d94ff7\")>,\n",
       " <selenium.webdriver.remote.webelement.WebElement (session=\"5025b05d8cf3ec1f2172adc2f7970b29\", element=\"6e4d9ade-adf5-49ba-82a8-7553e56111c0\")>]"
      ]
     },
     "execution_count": 61,
     "metadata": {},
     "output_type": "execute_result"
    }
   ],
   "source": [
    "contributor = driver.find_elements_by_xpath('/html/body/div[4]/main/div[3]/div/div[2]/article/div[2]/a[2]')\n",
    "contributor[0:3]"
   ]
  },
  {
   "cell_type": "code",
   "execution_count": 62,
   "metadata": {},
   "outputs": [
    {
     "data": {
      "text/plain": [
       "['391',\n",
       " '628',\n",
       " '45',\n",
       " '6,052',\n",
       " '3,165',\n",
       " '790',\n",
       " '29',\n",
       " '1,217',\n",
       " '300',\n",
       " '29,508',\n",
       " '503',\n",
       " '2,855',\n",
       " '17,470',\n",
       " '852',\n",
       " '2,003',\n",
       " '257',\n",
       " '19',\n",
       " '1,394',\n",
       " '87',\n",
       " '4,937',\n",
       " '171',\n",
       " '10',\n",
       " '3,098',\n",
       " '18',\n",
       " '872']"
      ]
     },
     "execution_count": 62,
     "metadata": {},
     "output_type": "execute_result"
    }
   ],
   "source": [
    "for i in contributor:\n",
    "    contributors=i.text.replace(\"\\n\",\" \")\n",
    "    Contributors_count.append(contributors)\n",
    "Contributors_count"
   ]
  },
  {
   "cell_type": "code",
   "execution_count": 63,
   "metadata": {},
   "outputs": [
    {
     "data": {
      "text/plain": [
       "[<selenium.webdriver.remote.webelement.WebElement (session=\"5025b05d8cf3ec1f2172adc2f7970b29\", element=\"4789449d-4697-4708-a594-f35c09d19074\")>,\n",
       " <selenium.webdriver.remote.webelement.WebElement (session=\"5025b05d8cf3ec1f2172adc2f7970b29\", element=\"b4b7935a-474c-407f-bacc-0ae19066a768\")>,\n",
       " <selenium.webdriver.remote.webelement.WebElement (session=\"5025b05d8cf3ec1f2172adc2f7970b29\", element=\"10633210-34e7-4e96-b8e8-d6df4e1d0808\")>]"
      ]
     },
     "execution_count": 63,
     "metadata": {},
     "output_type": "execute_result"
    }
   ],
   "source": [
    "language = driver.find_elements_by_xpath(\"//span[@itemprop='programmingLanguage']\")\n",
    "language[0:3]"
   ]
  },
  {
   "cell_type": "code",
   "execution_count": 64,
   "metadata": {},
   "outputs": [
    {
     "data": {
      "text/plain": [
       "['TypeScript',\n",
       " 'Blade',\n",
       " 'C++',\n",
       " 'Python',\n",
       " 'Python',\n",
       " 'JavaScript',\n",
       " 'C#',\n",
       " 'C++',\n",
       " 'Python',\n",
       " 'Rust',\n",
       " 'Python',\n",
       " 'JavaScript',\n",
       " 'Java',\n",
       " 'Python',\n",
       " 'Go',\n",
       " 'TypeScript',\n",
       " 'Kotlin',\n",
       " 'C++',\n",
       " 'JavaScript',\n",
       " 'Go',\n",
       " 'Swift',\n",
       " 'TypeScript',\n",
       " 'Python']"
      ]
     },
     "execution_count": 64,
     "metadata": {},
     "output_type": "execute_result"
    }
   ],
   "source": [
    "for i in language:\n",
    "    languages=i.text.replace(\"\\n\",\" \")\n",
    "    Language_used.append(languages)\n",
    "Language_used"
   ]
  },
  {
   "cell_type": "code",
   "execution_count": 67,
   "metadata": {},
   "outputs": [],
   "source": [
    "Language_used.insert(5, '-')\n",
    "Language_used.insert(17, '-')"
   ]
  },
  {
   "cell_type": "code",
   "execution_count": 69,
   "metadata": {},
   "outputs": [
    {
     "name": "stdout",
     "output_type": "stream",
     "text": [
      "25 25 25 25\n"
     ]
    }
   ],
   "source": [
    "print(len(Repository_title),len(Repository_description),len(Contributors_count),len(Language_used))"
   ]
  },
  {
   "cell_type": "code",
   "execution_count": 70,
   "metadata": {},
   "outputs": [],
   "source": [
    "Github=pd.DataFrame({})\n",
    "Github['Repository_title']=Repository_title\n",
    "Github['Repository_description']=Repository_description\n",
    "Github['Contributors_count']=Contributors_count\n",
    "Github['Language_used']=Language_used"
   ]
  },
  {
   "cell_type": "code",
   "execution_count": 71,
   "metadata": {},
   "outputs": [
    {
     "data": {
      "text/html": [
       "<div>\n",
       "<style scoped>\n",
       "    .dataframe tbody tr th:only-of-type {\n",
       "        vertical-align: middle;\n",
       "    }\n",
       "\n",
       "    .dataframe tbody tr th {\n",
       "        vertical-align: top;\n",
       "    }\n",
       "\n",
       "    .dataframe thead th {\n",
       "        text-align: right;\n",
       "    }\n",
       "</style>\n",
       "<table border=\"1\" class=\"dataframe\">\n",
       "  <thead>\n",
       "    <tr style=\"text-align: right;\">\n",
       "      <th></th>\n",
       "      <th>Repository_title</th>\n",
       "      <th>Repository_description</th>\n",
       "      <th>Contributors_count</th>\n",
       "      <th>Language_used</th>\n",
       "    </tr>\n",
       "  </thead>\n",
       "  <tbody>\n",
       "    <tr>\n",
       "      <th>0</th>\n",
       "      <td>supabase / supabase</td>\n",
       "      <td>The open source Firebase alternative. Follow t...</td>\n",
       "      <td>391</td>\n",
       "      <td>TypeScript</td>\n",
       "    </tr>\n",
       "    <tr>\n",
       "      <th>1</th>\n",
       "      <td>livewire / livewire</td>\n",
       "      <td>A full-stack framework for Laravel that takes ...</td>\n",
       "      <td>628</td>\n",
       "      <td>Blade</td>\n",
       "    </tr>\n",
       "    <tr>\n",
       "      <th>2</th>\n",
       "      <td>johnBuffer / NoCol</td>\n",
       "      <td>Trajectories finder</td>\n",
       "      <td>45</td>\n",
       "      <td>C++</td>\n",
       "    </tr>\n",
       "    <tr>\n",
       "      <th>3</th>\n",
       "      <td>521xueweihan / HelloGitHub</td>\n",
       "      <td>分享 GitHub 上有趣、入门级的开源项目</td>\n",
       "      <td>6,052</td>\n",
       "      <td>Python</td>\n",
       "    </tr>\n",
       "    <tr>\n",
       "      <th>4</th>\n",
       "      <td>Developer-Y / cs-video-courses</td>\n",
       "      <td>List of Computer Science courses with video le...</td>\n",
       "      <td>3,165</td>\n",
       "      <td>Python</td>\n",
       "    </tr>\n",
       "    <tr>\n",
       "      <th>5</th>\n",
       "      <td>PaddlePaddle / PaddleDetection</td>\n",
       "      <td>Object detection and instance segmentation too...</td>\n",
       "      <td>790</td>\n",
       "      <td>-</td>\n",
       "    </tr>\n",
       "    <tr>\n",
       "      <th>6</th>\n",
       "      <td>nextapps-de / winbox</td>\n",
       "      <td>WinBox is a professional HTML5 window manager ...</td>\n",
       "      <td>29</td>\n",
       "      <td>JavaScript</td>\n",
       "    </tr>\n",
       "    <tr>\n",
       "      <th>7</th>\n",
       "      <td>UnityTechnologies / open-project-1</td>\n",
       "      <td>Unity Open Project #1: Chop Chop</td>\n",
       "      <td>1,217</td>\n",
       "      <td>C#</td>\n",
       "    </tr>\n",
       "    <tr>\n",
       "      <th>8</th>\n",
       "      <td>flashlight / flashlight</td>\n",
       "      <td>A C++ standalone library for machine learning</td>\n",
       "      <td>300</td>\n",
       "      <td>C++</td>\n",
       "    </tr>\n",
       "    <tr>\n",
       "      <th>9</th>\n",
       "      <td>TheAlgorithms / Python</td>\n",
       "      <td>All Algorithms implemented in Python</td>\n",
       "      <td>29,508</td>\n",
       "      <td>Python</td>\n",
       "    </tr>\n",
       "    <tr>\n",
       "      <th>10</th>\n",
       "      <td>dani-garcia / vaultwarden</td>\n",
       "      <td>Unofficial Bitwarden compatible server written...</td>\n",
       "      <td>503</td>\n",
       "      <td>Rust</td>\n",
       "    </tr>\n",
       "    <tr>\n",
       "      <th>11</th>\n",
       "      <td>nvbn / thefuck</td>\n",
       "      <td>Magnificent app which corrects your previous c...</td>\n",
       "      <td>2,855</td>\n",
       "      <td>Python</td>\n",
       "    </tr>\n",
       "    <tr>\n",
       "      <th>12</th>\n",
       "      <td>trekhleb / javascript-algorithms</td>\n",
       "      <td>📝 Algorithms and data structures implemented i...</td>\n",
       "      <td>17,470</td>\n",
       "      <td>JavaScript</td>\n",
       "    </tr>\n",
       "    <tr>\n",
       "      <th>13</th>\n",
       "      <td>doocs / leetcode</td>\n",
       "      <td>😏 LeetCode solutions in any programming langua...</td>\n",
       "      <td>852</td>\n",
       "      <td>Java</td>\n",
       "    </tr>\n",
       "    <tr>\n",
       "      <th>14</th>\n",
       "      <td>mlflow / mlflow</td>\n",
       "      <td>Open source platform for the machine learning ...</td>\n",
       "      <td>2,003</td>\n",
       "      <td>Python</td>\n",
       "    </tr>\n",
       "    <tr>\n",
       "      <th>15</th>\n",
       "      <td>xinliangnote / go-gin-api</td>\n",
       "      <td>基于 Gin 进行模块化设计的 API 框架，封装了常用功能，使用简单，致力于进行快速的业务...</td>\n",
       "      <td>257</td>\n",
       "      <td>Go</td>\n",
       "    </tr>\n",
       "    <tr>\n",
       "      <th>16</th>\n",
       "      <td>gitflai / Semana-do-Iniciante-em-Data-Science</td>\n",
       "      <td>TensorFlow's Visualization Toolkit</td>\n",
       "      <td>19</td>\n",
       "      <td>TypeScript</td>\n",
       "    </tr>\n",
       "    <tr>\n",
       "      <th>17</th>\n",
       "      <td>tensorflow / tensorboard</td>\n",
       "      <td>-</td>\n",
       "      <td>1,394</td>\n",
       "      <td>-</td>\n",
       "    </tr>\n",
       "    <tr>\n",
       "      <th>18</th>\n",
       "      <td>SagerNet / SagerNet</td>\n",
       "      <td>The universal proxy toolchain for Android.</td>\n",
       "      <td>87</td>\n",
       "      <td>Kotlin</td>\n",
       "    </tr>\n",
       "    <tr>\n",
       "      <th>19</th>\n",
       "      <td>commaai / openpilot</td>\n",
       "      <td>openpilot is an open source driver assistance ...</td>\n",
       "      <td>4,937</td>\n",
       "      <td>C++</td>\n",
       "    </tr>\n",
       "    <tr>\n",
       "      <th>20</th>\n",
       "      <td>chrisleekr / binance-trading-bot</td>\n",
       "      <td>Automated Binance trading bot - Buy low/Sell h...</td>\n",
       "      <td>171</td>\n",
       "      <td>JavaScript</td>\n",
       "    </tr>\n",
       "    <tr>\n",
       "      <th>21</th>\n",
       "      <td>storj / drpc</td>\n",
       "      <td>drpc is a lightweight, drop-in replacement for...</td>\n",
       "      <td>10</td>\n",
       "      <td>Go</td>\n",
       "    </tr>\n",
       "    <tr>\n",
       "      <th>22</th>\n",
       "      <td>airbnb / lottie-ios</td>\n",
       "      <td>An iOS library to natively render After Effect...</td>\n",
       "      <td>3,098</td>\n",
       "      <td>Swift</td>\n",
       "    </tr>\n",
       "    <tr>\n",
       "      <th>23</th>\n",
       "      <td>seek-oss / vanilla-extract</td>\n",
       "      <td>Zero-runtime Stylesheets-in-TypeScript</td>\n",
       "      <td>18</td>\n",
       "      <td>TypeScript</td>\n",
       "    </tr>\n",
       "    <tr>\n",
       "      <th>24</th>\n",
       "      <td>huggingface / datasets</td>\n",
       "      <td>🤗 The largest hub of ready-to-use NLP datasets...</td>\n",
       "      <td>872</td>\n",
       "      <td>Python</td>\n",
       "    </tr>\n",
       "  </tbody>\n",
       "</table>\n",
       "</div>"
      ],
      "text/plain": [
       "                                 Repository_title  \\\n",
       "0                             supabase / supabase   \n",
       "1                             livewire / livewire   \n",
       "2                              johnBuffer / NoCol   \n",
       "3                      521xueweihan / HelloGitHub   \n",
       "4                  Developer-Y / cs-video-courses   \n",
       "5                  PaddlePaddle / PaddleDetection   \n",
       "6                            nextapps-de / winbox   \n",
       "7              UnityTechnologies / open-project-1   \n",
       "8                         flashlight / flashlight   \n",
       "9                          TheAlgorithms / Python   \n",
       "10                      dani-garcia / vaultwarden   \n",
       "11                                 nvbn / thefuck   \n",
       "12               trekhleb / javascript-algorithms   \n",
       "13                               doocs / leetcode   \n",
       "14                                mlflow / mlflow   \n",
       "15                      xinliangnote / go-gin-api   \n",
       "16  gitflai / Semana-do-Iniciante-em-Data-Science   \n",
       "17                       tensorflow / tensorboard   \n",
       "18                            SagerNet / SagerNet   \n",
       "19                            commaai / openpilot   \n",
       "20               chrisleekr / binance-trading-bot   \n",
       "21                                   storj / drpc   \n",
       "22                            airbnb / lottie-ios   \n",
       "23                     seek-oss / vanilla-extract   \n",
       "24                         huggingface / datasets   \n",
       "\n",
       "                               Repository_description Contributors_count  \\\n",
       "0   The open source Firebase alternative. Follow t...                391   \n",
       "1   A full-stack framework for Laravel that takes ...                628   \n",
       "2                                 Trajectories finder                 45   \n",
       "3                              分享 GitHub 上有趣、入门级的开源项目              6,052   \n",
       "4   List of Computer Science courses with video le...              3,165   \n",
       "5   Object detection and instance segmentation too...                790   \n",
       "6   WinBox is a professional HTML5 window manager ...                 29   \n",
       "7                    Unity Open Project #1: Chop Chop              1,217   \n",
       "8       A C++ standalone library for machine learning                300   \n",
       "9                All Algorithms implemented in Python             29,508   \n",
       "10  Unofficial Bitwarden compatible server written...                503   \n",
       "11  Magnificent app which corrects your previous c...              2,855   \n",
       "12  📝 Algorithms and data structures implemented i...             17,470   \n",
       "13  😏 LeetCode solutions in any programming langua...                852   \n",
       "14  Open source platform for the machine learning ...              2,003   \n",
       "15  基于 Gin 进行模块化设计的 API 框架，封装了常用功能，使用简单，致力于进行快速的业务...                257   \n",
       "16                 TensorFlow's Visualization Toolkit                 19   \n",
       "17                                                  -              1,394   \n",
       "18         The universal proxy toolchain for Android.                 87   \n",
       "19  openpilot is an open source driver assistance ...              4,937   \n",
       "20  Automated Binance trading bot - Buy low/Sell h...                171   \n",
       "21  drpc is a lightweight, drop-in replacement for...                 10   \n",
       "22  An iOS library to natively render After Effect...              3,098   \n",
       "23             Zero-runtime Stylesheets-in-TypeScript                 18   \n",
       "24  🤗 The largest hub of ready-to-use NLP datasets...                872   \n",
       "\n",
       "   Language_used  \n",
       "0     TypeScript  \n",
       "1          Blade  \n",
       "2            C++  \n",
       "3         Python  \n",
       "4         Python  \n",
       "5              -  \n",
       "6     JavaScript  \n",
       "7             C#  \n",
       "8            C++  \n",
       "9         Python  \n",
       "10          Rust  \n",
       "11        Python  \n",
       "12    JavaScript  \n",
       "13          Java  \n",
       "14        Python  \n",
       "15            Go  \n",
       "16    TypeScript  \n",
       "17             -  \n",
       "18        Kotlin  \n",
       "19           C++  \n",
       "20    JavaScript  \n",
       "21            Go  \n",
       "22         Swift  \n",
       "23    TypeScript  \n",
       "24        Python  "
      ]
     },
     "execution_count": 71,
     "metadata": {},
     "output_type": "execute_result"
    }
   ],
   "source": [
    "Github"
   ]
  },
  {
   "cell_type": "code",
   "execution_count": 72,
   "metadata": {},
   "outputs": [],
   "source": [
    "Github.to_csv(\"Github.csv\")"
   ]
  },
  {
   "cell_type": "code",
   "execution_count": 73,
   "metadata": {},
   "outputs": [],
   "source": [
    "driver.close()"
   ]
  },
  {
   "cell_type": "code",
   "execution_count": null,
   "metadata": {},
   "outputs": [],
   "source": []
  },
  {
   "cell_type": "code",
   "execution_count": null,
   "metadata": {},
   "outputs": [],
   "source": []
  },
  {
   "cell_type": "code",
   "execution_count": null,
   "metadata": {},
   "outputs": [],
   "source": []
  },
  {
   "cell_type": "code",
   "execution_count": null,
   "metadata": {},
   "outputs": [],
   "source": []
  }
 ],
 "metadata": {
  "kernelspec": {
   "display_name": "Python 3",
   "language": "python",
   "name": "python3"
  },
  "language_info": {
   "codemirror_mode": {
    "name": "ipython",
    "version": 3
   },
   "file_extension": ".py",
   "mimetype": "text/x-python",
   "name": "python",
   "nbconvert_exporter": "python",
   "pygments_lexer": "ipython3",
   "version": "3.8.3"
  }
 },
 "nbformat": 4,
 "nbformat_minor": 4
}
